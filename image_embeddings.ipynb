{
  "nbformat": 4,
  "nbformat_minor": 0,
  "metadata": {
    "colab": {
      "provenance": []
    },
    "kernelspec": {
      "name": "python3",
      "display_name": "Python 3"
    },
    "language_info": {
      "name": "python"
    }
  },
  "cells": [
    {
      "cell_type": "code",
      "execution_count": null,
      "metadata": {
        "id": "lRK_WRPHhoh0"
      },
      "outputs": [],
      "source": [
        "import os\n",
        "import numpy as np\n",
        "import zipfile"
      ]
    },
    {
      "cell_type": "code",
      "source": [
        "import tensorflow as tf\n",
        "from tensorflow.keras.applications.vgg16 import VGG16\n",
        "from tensorflow.keras.applications.vgg16 import preprocess_input\n",
        "from tensorflow.keras.preprocessing.image import ImageDataGenerator\n",
        "from tensorflow.keras import Model\n",
        "from tensorflow.keras.layers import Flatten"
      ],
      "metadata": {
        "id": "NRZgGLXro9kj"
      },
      "execution_count": null,
      "outputs": []
    },
    {
      "cell_type": "code",
      "source": [
        "base_model = VGG16(include_top=False,weights='imagenet',input_shape=(224,224,3))\n",
        "base_model.trainable = False"
      ],
      "metadata": {
        "colab": {
          "base_uri": "https://localhost:8080/"
        },
        "id": "bXx42erysuA6",
        "outputId": "74dd547e-5909-45da-86a5-ab4d508e4769"
      },
      "execution_count": null,
      "outputs": [
        {
          "output_type": "stream",
          "name": "stdout",
          "text": [
            "Downloading data from https://storage.googleapis.com/tensorflow/keras-applications/vgg16/vgg16_weights_tf_dim_ordering_tf_kernels_notop.h5\n",
            "58889256/58889256 [==============================] - 0s 0us/step\n"
          ]
        }
      ]
    },
    {
      "cell_type": "code",
      "source": [
        "base_model.summary()"
      ],
      "metadata": {
        "colab": {
          "base_uri": "https://localhost:8080/"
        },
        "id": "-wyk4fUAtvoP",
        "outputId": "14f4ec84-7200-4274-8837-4934bb952059"
      },
      "execution_count": null,
      "outputs": [
        {
          "output_type": "stream",
          "name": "stdout",
          "text": [
            "Model: \"vgg16\"\n",
            "_________________________________________________________________\n",
            " Layer (type)                Output Shape              Param #   \n",
            "=================================================================\n",
            " input_1 (InputLayer)        [(None, 224, 224, 3)]     0         \n",
            "                                                                 \n",
            " block1_conv1 (Conv2D)       (None, 224, 224, 64)      1792      \n",
            "                                                                 \n",
            " block1_conv2 (Conv2D)       (None, 224, 224, 64)      36928     \n",
            "                                                                 \n",
            " block1_pool (MaxPooling2D)  (None, 112, 112, 64)      0         \n",
            "                                                                 \n",
            " block2_conv1 (Conv2D)       (None, 112, 112, 128)     73856     \n",
            "                                                                 \n",
            " block2_conv2 (Conv2D)       (None, 112, 112, 128)     147584    \n",
            "                                                                 \n",
            " block2_pool (MaxPooling2D)  (None, 56, 56, 128)       0         \n",
            "                                                                 \n",
            " block3_conv1 (Conv2D)       (None, 56, 56, 256)       295168    \n",
            "                                                                 \n",
            " block3_conv2 (Conv2D)       (None, 56, 56, 256)       590080    \n",
            "                                                                 \n",
            " block3_conv3 (Conv2D)       (None, 56, 56, 256)       590080    \n",
            "                                                                 \n",
            " block3_pool (MaxPooling2D)  (None, 28, 28, 256)       0         \n",
            "                                                                 \n",
            " block4_conv1 (Conv2D)       (None, 28, 28, 512)       1180160   \n",
            "                                                                 \n",
            " block4_conv2 (Conv2D)       (None, 28, 28, 512)       2359808   \n",
            "                                                                 \n",
            " block4_conv3 (Conv2D)       (None, 28, 28, 512)       2359808   \n",
            "                                                                 \n",
            " block4_pool (MaxPooling2D)  (None, 14, 14, 512)       0         \n",
            "                                                                 \n",
            " block5_conv1 (Conv2D)       (None, 14, 14, 512)       2359808   \n",
            "                                                                 \n",
            " block5_conv2 (Conv2D)       (None, 14, 14, 512)       2359808   \n",
            "                                                                 \n",
            " block5_conv3 (Conv2D)       (None, 14, 14, 512)       2359808   \n",
            "                                                                 \n",
            " block5_pool (MaxPooling2D)  (None, 7, 7, 512)         0         \n",
            "                                                                 \n",
            "=================================================================\n",
            "Total params: 14,714,688\n",
            "Trainable params: 0\n",
            "Non-trainable params: 14,714,688\n",
            "_________________________________________________________________\n"
          ]
        }
      ]
    },
    {
      "cell_type": "code",
      "source": [
        "inputs = tf.keras.Input((224,224,3))\n",
        "x = base_model(inputs,training=False)\n",
        "x = Flatten()(x) #tf.keras.layers.GlobalAveragePooling2D()(x)\n",
        "output = tf.keras.layers.Dense(1000,activation='softmax')(x) #Unique image objects: 75,729\n",
        "image_model = Model(inputs,output)"
      ],
      "metadata": {
        "id": "p5mElCfvtzhc"
      },
      "execution_count": null,
      "outputs": []
    },
    {
      "cell_type": "code",
      "source": [
        "image_model.summary()"
      ],
      "metadata": {
        "colab": {
          "base_uri": "https://localhost:8080/"
        },
        "id": "rR9sf4AaxyI3",
        "outputId": "8c918c49-0ebf-47fe-a263-285c350b91d4"
      },
      "execution_count": null,
      "outputs": [
        {
          "output_type": "stream",
          "name": "stdout",
          "text": [
            "Model: \"model_3\"\n",
            "_________________________________________________________________\n",
            " Layer (type)                Output Shape              Param #   \n",
            "=================================================================\n",
            " input_5 (InputLayer)        [(None, 224, 224, 3)]     0         \n",
            "                                                                 \n",
            " vgg16 (Functional)          (None, 7, 7, 512)         14714688  \n",
            "                                                                 \n",
            " flatten_3 (Flatten)         (None, 25088)             0         \n",
            "                                                                 \n",
            " dense_2 (Dense)             (None, 1000)              25089000  \n",
            "                                                                 \n",
            "=================================================================\n",
            "Total params: 39,803,688\n",
            "Trainable params: 25,089,000\n",
            "Non-trainable params: 14,714,688\n",
            "_________________________________________________________________\n"
          ]
        }
      ]
    },
    {
      "cell_type": "code",
      "source": [
        "import cv2\n",
        "img = cv2.imread('/content/img_embed1.jpeg')"
      ],
      "metadata": {
        "id": "C9P6CMLIyP6G"
      },
      "execution_count": null,
      "outputs": []
    },
    {
      "cell_type": "code",
      "source": [
        "from google.colab.patches import cv2_imshow\n",
        "cv2_imshow(img)\n",
        "img.shape"
      ],
      "metadata": {
        "id": "irRBQ4y5z7DU",
        "colab": {
          "base_uri": "https://localhost:8080/",
          "height": 202
        },
        "outputId": "49d1b3c3-708d-4eb3-9359-db901f8f76d3"
      },
      "execution_count": null,
      "outputs": [
        {
          "output_type": "display_data",
          "data": {
            "text/plain": [
              "<PIL.Image.Image image mode=RGB size=300x168 at 0x7FF046231CD0>"
            ],
            "image/png": "[encoded data removed]"
          },
          "metadata": {}
        },
        {
          "output_type": "execute_result",
          "data": {
            "text/plain": [
              "(168, 300, 3)"
            ]
          },
          "metadata": {},
          "execution_count": 28
        }
      ]
    },
    {
      "cell_type": "code",
      "source": [
        "type(img)"
      ],
      "metadata": {
        "colab": {
          "base_uri": "https://localhost:8080/"
        },
        "id": "KKh7WRP0xdoy",
        "outputId": "f0ffa01f-f007-4075-9075-5ab8295167f6"
      },
      "execution_count": null,
      "outputs": [
        {
          "output_type": "execute_result",
          "data": {
            "text/plain": [
              "numpy.ndarray"
            ]
          },
          "metadata": {},
          "execution_count": 12
        }
      ]
    },
    {
      "cell_type": "code",
      "source": [
        "img = cv2.resize(img,(224,224),3)\n"
      ],
      "metadata": {
        "id": "IwHdMGUFxvJh"
      },
      "execution_count": null,
      "outputs": []
    },
    {
      "cell_type": "code",
      "source": [
        "img.shape"
      ],
      "metadata": {
        "id": "WxYkc1bnyMLD",
        "colab": {
          "base_uri": "https://localhost:8080/"
        },
        "outputId": "21a9eca6-371b-479c-cd4e-899eb9e4e4eb"
      },
      "execution_count": null,
      "outputs": [
        {
          "output_type": "execute_result",
          "data": {
            "text/plain": [
              "(224, 224, 3)"
            ]
          },
          "metadata": {},
          "execution_count": 30
        }
      ]
    },
    {
      "cell_type": "code",
      "source": [
        "print(image_model.predict(np.array([img]))[0])"
      ],
      "metadata": {
        "colab": {
          "base_uri": "https://localhost:8080/"
        },
        "id": "iF7PBxpBW7Ub",
        "outputId": "dc30164f-a728-4a26-b817-65f229b412f4"
      },
      "execution_count": null,
      "outputs": [
        {
          "output_type": "stream",
          "name": "stdout",
          "text": [
            "1/1 [==============================] - 1s 695ms/step\n",
            "[2.07960298e-20 7.49280993e-24 5.33045950e-29 9.62313522e-14\n",
            " 2.32944940e-16 5.99844238e-19 1.25243621e-10 4.14141625e-22\n",
            " 1.83353388e-22 7.82277590e-22 3.61374110e-20 8.42354797e-11\n",
            " 1.37258724e-16 2.47086987e-21 1.16385411e-19 1.03337844e-18\n",
            " 2.55180814e-18 3.79931626e-16 2.91760244e-27 5.01591824e-13\n",
            " 2.47151810e-23 2.02041734e-19 1.24276229e-15 7.27490876e-13\n",
            " 6.96739715e-12 3.60427678e-01 5.38457760e-14 2.54870809e-08\n",
            " 3.88660374e-05 3.25697678e-15 5.31913530e-18 8.62393824e-17\n",
            " 6.56538574e-11 1.40605756e-11 1.27510667e-20 1.65229774e-11\n",
            " 3.03548111e-20 2.38466100e-18 6.15122937e-23 8.41526770e-17\n",
            " 4.19117319e-09 9.48288061e-20 3.83997613e-27 2.70842060e-24\n",
            " 5.72413853e-07 1.89386331e-18 1.21433774e-18 3.21133738e-14\n",
            " 5.65715348e-20 2.40956989e-18 1.56401081e-20 7.48491115e-20\n",
            " 7.86867221e-18 3.16365857e-12 1.42580980e-19 2.43560827e-21\n",
            " 2.20956260e-16 1.69712271e-19 1.78223177e-17 4.37891324e-23\n",
            " 1.10923746e-17 1.59574453e-15 1.40683808e-15 7.55227281e-15\n",
            " 3.29860125e-15 2.27158272e-18 1.42141933e-15 1.01792693e-20\n",
            " 7.25447138e-24 2.19195751e-24 5.23434356e-29 4.46423565e-14\n",
            " 3.78826466e-21 2.79038995e-24 2.56843646e-13 4.99946321e-16\n",
            " 7.51223595e-18 8.93704028e-19 1.44445697e-14 1.14149616e-14\n",
            " 1.42312758e-16 6.00868248e-07 2.29660998e-15 1.53053246e-14\n",
            " 6.97721774e-14 7.06197557e-12 1.78210852e-18 1.82454304e-19\n",
            " 1.68030563e-12 2.28038388e-09 3.45456597e-18 5.10765102e-14\n",
            " 2.28143153e-06 6.08365814e-20 1.59740792e-14 5.56454839e-14\n",
            " 3.96257530e-22 2.70714983e-13 2.81538730e-17 6.46884149e-18\n",
            " 1.23132116e-19 4.72841786e-15 7.43086287e-11 8.12130902e-16\n",
            " 1.19817298e-18 2.52100460e-23 1.15431914e-15 3.46808931e-24\n",
            " 2.71546756e-15 2.14519049e-13 3.64308435e-05 1.31968117e-10\n",
            " 6.67427318e-22 2.96922238e-16 1.90118171e-10 4.51837340e-26\n",
            " 1.29101285e-21 6.96946906e-20 4.66509186e-19 1.20293558e-11\n",
            " 5.94169091e-15 6.05463542e-13 2.43006096e-19 2.72459960e-22\n",
            " 5.18567615e-27 1.87609436e-19 5.41712942e-14 2.48713093e-17\n",
            " 1.54805776e-17 4.35793934e-09 9.66777697e-27 3.22234440e-14\n",
            " 1.61099331e-14 1.48149656e-23 4.29397053e-16 6.09543069e-14\n",
            " 2.16408216e-17 1.27412010e-08 2.20668588e-20 7.77399412e-13\n",
            " 4.73167354e-08 6.61323042e-19 3.19758324e-19 1.94084868e-16\n",
            " 3.30243035e-14 6.80599424e-28 1.51224912e-13 1.30494425e-16\n",
            " 2.12161094e-16 1.65540833e-18 1.49168706e-23 3.36979658e-13\n",
            " 1.49770852e-15 3.65973637e-24 3.40477535e-09 1.08179013e-11\n",
            " 1.33114375e-09 3.89615927e-22 6.86618099e-28 2.14645333e-11\n",
            " 8.25403842e-11 7.82573444e-21 1.50190044e-25 2.79013998e-20\n",
            " 1.68312566e-19 4.18172306e-07 1.29241751e-13 5.64449542e-14\n",
            " 5.58003827e-20 3.97311481e-12 3.37092618e-14 2.29359598e-17\n",
            " 4.80530252e-06 1.08735497e-18 1.55538576e-17 2.45375660e-13\n",
            " 5.83349070e-13 6.39738094e-18 1.86204697e-28 6.91316210e-16\n",
            " 5.58556687e-23 7.77664340e-18 3.19400375e-16 1.67625984e-08\n",
            " 5.05512497e-20 2.53518451e-09 9.94365204e-22 4.37883800e-12\n",
            " 6.42400613e-20 3.95849996e-20 4.34223279e-24 9.68290899e-12\n",
            " 8.76773920e-05 1.43819115e-11 2.45063383e-08 2.71971420e-14\n",
            " 2.01039541e-08 3.01825674e-18 1.75005444e-18 3.30689337e-10\n",
            " 5.14969469e-14 1.28509405e-18 1.28463592e-14 5.51278086e-19\n",
            " 2.00929106e-16 6.81119063e-20 7.07078206e-18 1.08601908e-20\n",
            " 1.29438413e-16 2.93845800e-18 4.85184707e-14 5.30936663e-17\n",
            " 3.94743266e-12 1.01237965e-05 1.10627466e-18 6.98066044e-23\n",
            " 2.18840319e-27 2.11820370e-11 1.07427865e-15 1.93615984e-13\n",
            " 4.10614182e-10 1.81299767e-12 1.01905760e-20 8.48522392e-23\n",
            " 2.15068914e-20 6.37854118e-19 4.38395054e-09 2.59253881e-13\n",
            " 1.72792860e-21 1.56084153e-18 2.01240681e-07 4.75658839e-14\n",
            " 1.38517442e-16 2.88682146e-22 3.32144658e-13 3.28324106e-08\n",
            " 3.50868807e-17 1.79271669e-12 2.16854423e-10 1.23083522e-15\n",
            " 3.06904336e-16 1.03657023e-22 2.46864338e-16 3.11913594e-15\n",
            " 5.30376264e-12 1.03536547e-21 2.06698549e-15 1.46043431e-05\n",
            " 1.38550799e-15 8.96237697e-03 1.02970017e-16 3.52729443e-21\n",
            " 2.67852580e-13 4.41549176e-18 4.01923164e-14 3.01612592e-19\n",
            " 3.83308863e-13 1.02844621e-12 7.37153894e-20 2.77736521e-20\n",
            " 1.70535247e-33 3.09514892e-13 4.08127123e-22 7.51445067e-16\n",
            " 3.40387678e-14 1.65962104e-16 4.29463687e-11 7.36124767e-03\n",
            " 1.24576783e-21 5.33604805e-09 5.60031527e-21 1.07092085e-20\n",
            " 3.14972059e-23 7.80550291e-18 1.49190140e-18 4.53100116e-14\n",
            " 8.22160742e-11 1.87857173e-12 3.32540715e-25 9.06599240e-08\n",
            " 2.37398056e-16 5.37416531e-17 1.60899216e-09 3.25019243e-12\n",
            " 1.16861543e-06 1.15820244e-12 1.11858985e-25 1.65787089e-13\n",
            " 6.09511872e-17 4.43914255e-15 9.59874274e-24 4.97533865e-16\n",
            " 5.25788018e-13 5.51999051e-07 1.49101272e-12 1.05687909e-12\n",
            " 2.51667882e-17 2.15890198e-19 2.41610833e-15 1.22100751e-19\n",
            " 1.08357095e-17 5.36143992e-13 6.69374156e-14 1.79045728e-24\n",
            " 8.90435797e-22 2.00655134e-21 2.61160639e-17 1.98271724e-13\n",
            " 1.25069529e-11 7.27392390e-24 8.70045370e-20 4.24102756e-14\n",
            " 5.52423266e-19 3.21030197e-14 4.89581486e-15 6.26910811e-15\n",
            " 1.72407424e-24 9.22227058e-21 4.48569749e-16 1.37654221e-14\n",
            " 9.91837845e-23 2.16867986e-22 3.99229448e-24 2.41676931e-25\n",
            " 1.95658015e-22 6.40231865e-16 7.23808830e-14 2.09764339e-18\n",
            " 1.68475471e-22 6.06616923e-10 2.74481098e-11 2.37937859e-28\n",
            " 1.20359449e-22 1.81598715e-28 2.46085222e-21 8.07119738e-20\n",
            " 5.36109900e-18 8.88385175e-25 5.83637444e-20 1.38196091e-30\n",
            " 1.24432167e-17 3.86345831e-18 6.34287594e-18 3.09544104e-15\n",
            " 1.93849437e-10 5.94891771e-14 8.90408319e-15 3.09564900e-18\n",
            " 1.96214587e-17 9.28770194e-26 5.68159120e-09 2.66679387e-11\n",
            " 1.19610613e-30 5.72497562e-12 5.88299054e-09 1.74932950e-15\n",
            " 1.15203762e-20 1.36328312e-16 2.09163669e-16 1.98798617e-19\n",
            " 1.66651383e-20 6.69905966e-24 2.70639219e-12 2.27487257e-15\n",
            " 1.38999513e-18 6.95419203e-07 3.63743548e-26 6.04321533e-16\n",
            " 3.41806700e-21 4.14517278e-17 1.77924895e-14 6.43790925e-22\n",
            " 5.39631604e-15 1.13107587e-14 1.28303336e-12 4.54793419e-15\n",
            " 1.31277118e-19 3.71108452e-28 2.37281686e-20 2.46190486e-20\n",
            " 1.63305769e-29 3.75342493e-21 2.06219883e-21 3.49732342e-13\n",
            " 1.02608936e-15 6.66054553e-20 1.03275670e-16 3.32046577e-16\n",
            " 2.54695151e-21 3.61955794e-23 3.62569250e-16 2.22856206e-20\n",
            " 2.41083990e-17 1.46936855e-14 8.39606056e-17 1.93725765e-12\n",
            " 1.49558615e-13 1.82932337e-12 3.23326419e-19 4.43726176e-12\n",
            " 3.78920968e-14 9.46876025e-06 1.38732247e-22 1.94848170e-24\n",
            " 2.84612676e-12 4.32851657e-08 2.46249279e-08 9.39498587e-13\n",
            " 3.57034924e-14 1.54012751e-12 3.03180323e-26 4.72550428e-12\n",
            " 6.04110495e-09 1.30517460e-14 6.17598324e-17 1.56612208e-04\n",
            " 2.78903630e-18 5.96867694e-12 3.53184899e-19 7.12373987e-25\n",
            " 1.39717899e-08 1.25947226e-13 3.78162874e-14 5.90924998e-09\n",
            " 5.44078844e-11 4.38856511e-14 2.01856382e-16 5.44712261e-11\n",
            " 2.26982823e-22 2.34037602e-18 7.32431970e-17 3.27724141e-15\n",
            " 3.25577167e-15 6.18307846e-17 1.39795502e-11 9.58209699e-24\n",
            " 5.23732610e-19 2.54131149e-22 4.56891822e-17 7.09283706e-15\n",
            " 7.38347949e-18 8.97833579e-15 1.48218007e-16 1.87854815e-14\n",
            " 2.15856214e-21 2.53200535e-20 2.07328553e-13 1.02150329e-17\n",
            " 1.06452958e-10 1.05047949e-13 1.89002514e-24 4.85829321e-10\n",
            " 3.23064888e-20 1.79832671e-19 3.58569321e-13 1.53921136e-12\n",
            " 9.10837447e-11 7.06488427e-05 2.74240197e-20 4.19704122e-18\n",
            " 2.11900750e-15 5.05817393e-12 1.33510980e-10 1.04318375e-13\n",
            " 7.71898325e-25 6.19963269e-14 1.76747170e-25 5.45433590e-19\n",
            " 6.84931834e-25 2.24127925e-15 3.85197453e-21 2.35014797e-16\n",
            " 3.07862330e-16 1.47204395e-15 1.52087662e-22 1.62262087e-12\n",
            " 1.05075794e-17 1.14446592e-17 7.96315410e-15 3.89058479e-17\n",
            " 2.36785156e-21 6.20027323e-17 1.80916669e-16 6.97444110e-13\n",
            " 2.07539069e-24 1.44231849e-13 2.84005458e-11 2.63588734e-10\n",
            " 1.00580380e-07 7.37970970e-17 1.46733754e-11 6.40651126e-19\n",
            " 7.64846267e-17 7.14258622e-13 1.67513636e-21 1.38119388e-19\n",
            " 1.81848860e-14 1.41861194e-17 3.90624106e-26 6.28432117e-20\n",
            " 8.88722915e-20 8.07742183e-27 2.39627118e-09 7.32784085e-17\n",
            " 2.37192890e-21 1.09662095e-15 9.89771265e-10 4.53394883e-14\n",
            " 1.07328139e-26 2.94187063e-16 2.20581152e-19 5.67839553e-24\n",
            " 2.54519822e-10 3.91106923e-20 1.40811594e-15 3.95948634e-14\n",
            " 4.29422055e-14 3.77075283e-14 1.97565198e-04 2.09991128e-16\n",
            " 1.21457561e-23 9.02733834e-16 1.39198891e-20 3.50787148e-17\n",
            " 1.75866932e-01 1.71267011e-11 1.07995713e-30 3.07792588e-19\n",
            " 7.46740663e-26 1.06074537e-14 7.84993681e-10 5.08509182e-17\n",
            " 4.33265936e-21 1.17082138e-07 1.19009745e-24 3.46829623e-08\n",
            " 2.89862888e-22 5.47378623e-18 5.09420268e-15 2.72997333e-18\n",
            " 5.63558836e-14 1.53580371e-12 3.15074101e-16 1.73717921e-16\n",
            " 2.18536904e-25 1.00295089e-23 2.97317201e-05 1.21222702e-11\n",
            " 2.37071122e-18 3.20161566e-16 2.24898285e-19 9.25904302e-27\n",
            " 3.12307917e-21 7.88575680e-14 4.61368135e-26 7.44987759e-19\n",
            " 7.35854044e-10 2.08634327e-18 4.19102173e-20 1.25394273e-24\n",
            " 1.09763353e-23 2.80198262e-14 1.26264861e-26 1.32404484e-22\n",
            " 1.15047183e-09 4.12908895e-03 5.20858290e-09 6.34353003e-14\n",
            " 1.61269399e-17 3.00596215e-18 5.17238334e-07 4.52014679e-27\n",
            " 2.75548817e-13 1.95747567e-11 2.23172236e-09 1.13283007e-16\n",
            " 4.86509123e-17 1.28535342e-11 1.32545157e-08 7.62373076e-25\n",
            " 7.08163302e-18 4.67216110e-12 2.96066734e-19 2.56464102e-18\n",
            " 4.71624652e-20 3.88338558e-21 2.19330171e-26 6.17131085e-20\n",
            " 4.56734900e-10 1.39397018e-21 9.73402785e-25 4.08202879e-17\n",
            " 6.74933640e-16 1.57559115e-21 2.08009702e-18 2.41864612e-10\n",
            " 7.76337301e-16 2.28676640e-15 4.59646689e-18 6.13794833e-20\n",
            " 3.75057380e-15 1.96016886e-19 3.90646706e-25 4.56713879e-18\n",
            " 1.00802129e-16 1.48589235e-18 5.07061922e-18 3.10216553e-16\n",
            " 4.52162183e-08 1.32337791e-15 5.82123315e-20 7.65902825e-18\n",
            " 7.09311819e-12 1.42382015e-12 7.88457766e-23 3.44195911e-21\n",
            " 8.08424272e-10 8.34448579e-15 1.39948223e-17 3.93460314e-15\n",
            " 1.11990426e-11 1.38516836e-17 1.49703799e-18 8.68521021e-14\n",
            " 1.14165014e-04 5.43863709e-16 3.73522658e-14 7.07703905e-15\n",
            " 3.66002647e-18 1.49171091e-14 2.29967725e-16 1.22849991e-14\n",
            " 1.81134091e-17 1.77145223e-12 1.45375462e-18 1.41139388e-26\n",
            " 1.09718867e-25 1.62762978e-12 3.74297408e-13 2.24206498e-16\n",
            " 2.48763689e-22 4.37026476e-25 2.12844784e-13 2.24237374e-04\n",
            " 5.93615665e-21 4.02242174e-18 3.06305643e-15 1.60927181e-16\n",
            " 3.69430112e-11 4.15084176e-15 1.34358240e-15 8.44704401e-17\n",
            " 5.62672853e-10 5.43047493e-14 1.38776594e-16 7.17651642e-18\n",
            " 7.90468815e-17 3.22857899e-20 3.40858128e-06 1.00803792e-21\n",
            " 2.47631968e-17 4.83587142e-26 3.32994274e-15 4.20342814e-21\n",
            " 2.45232634e-08 2.10833542e-12 1.98957177e-19 9.85916831e-20\n",
            " 3.89356977e-13 5.20958918e-19 1.16006582e-09 7.03797264e-12\n",
            " 6.71092684e-13 1.99809839e-11 1.26575779e-13 2.52144967e-21\n",
            " 1.28901831e-16 6.36664874e-13 1.74632973e-07 1.60824364e-20\n",
            " 2.66979110e-15 1.22359934e-05 1.26000256e-18 2.58955894e-28\n",
            " 2.31473007e-10 1.51133082e-11 6.09047690e-15 3.16598759e-20\n",
            " 3.72710770e-06 1.63265370e-13 1.84800371e-17 1.48754268e-18\n",
            " 6.58857193e-21 4.00998553e-16 1.92907426e-10 2.14359494e-21\n",
            " 1.73098627e-25 1.08746772e-13 1.02013313e-16 8.58326702e-26\n",
            " 4.39090550e-01 2.41291054e-09 3.30752407e-14 2.13160670e-11\n",
            " 3.16035768e-17 1.98695043e-16 1.60441150e-23 1.85068460e-17\n",
            " 3.23656276e-13 6.45202902e-12 2.12925465e-14 1.42885971e-14\n",
            " 4.62655021e-17 1.04020559e-09 5.88144280e-24 1.57789539e-13\n",
            " 1.35482859e-22 4.86211093e-07 1.45592571e-09 4.90094587e-18\n",
            " 5.34773558e-20 2.26556084e-17 9.02114764e-30 1.89665212e-20\n",
            " 1.92712161e-21 2.39494430e-18 5.87520416e-14 4.31022856e-11\n",
            " 2.04100960e-17 1.23021289e-27 3.85370146e-17 4.42286274e-16\n",
            " 6.41445041e-14 3.14157093e-13 9.26297629e-17 3.60612377e-21\n",
            " 2.68008619e-12 9.67591353e-23 1.96291045e-16 4.12889896e-11\n",
            " 4.90025034e-12 2.40191672e-10 2.35469865e-15 3.88661732e-13\n",
            " 1.29164643e-24 1.55192666e-07 1.57823465e-14 1.56997100e-08\n",
            " 5.35630962e-09 3.08720041e-21 7.74417493e-24 1.32132350e-17\n",
            " 8.47002907e-22 5.09541987e-14 3.14775724e-19 4.77195408e-18\n",
            " 7.68530378e-12 8.09466217e-20 1.00628618e-28 2.36418166e-18\n",
            " 3.19311216e-10 6.24420466e-07 3.66618532e-20 6.67941150e-24\n",
            " 3.26203829e-22 9.24455676e-08 7.04792819e-23 1.32499745e-18\n",
            " 1.26481146e-21 2.92804361e-16 2.34378605e-09 1.51427587e-16\n",
            " 6.72956295e-17 1.01982265e-22 3.59341598e-13 1.77691177e-07\n",
            " 2.33796022e-16 4.57367444e-19 1.87561633e-10 4.00579210e-18\n",
            " 1.04260316e-20 2.43190020e-24 1.29837419e-10 2.31748105e-26\n",
            " 1.79206839e-18 2.61578016e-20 2.64888536e-06 1.39967976e-17\n",
            " 3.44697930e-13 5.17156970e-20 4.51588045e-16 1.30799885e-13\n",
            " 2.41373050e-16 6.12222703e-11 1.34939347e-20 1.02285888e-12\n",
            " 2.25886254e-11 4.05790938e-21 4.96302648e-20 1.16114514e-07\n",
            " 9.71047687e-10 7.65064468e-15 1.10800572e-19 3.16508300e-12\n",
            " 7.10123146e-22 2.68408434e-10 3.97154309e-10 1.30625458e-23\n",
            " 1.11669287e-13 1.63343368e-19 4.43983941e-14 6.94411864e-22\n",
            " 7.57873699e-04 2.49363708e-18 1.32712024e-13 2.62431221e-15\n",
            " 2.17068363e-10 3.66936124e-20 9.48259588e-19 4.51014754e-31\n",
            " 4.38344565e-14 3.17186849e-24 4.23350972e-11 2.20562946e-09\n",
            " 6.09104076e-13 3.19566392e-22 5.01994595e-25 9.23458968e-14\n",
            " 1.26603116e-16 2.04122553e-04 5.22992221e-18 1.97044844e-18\n",
            " 1.00010511e-22 1.45358194e-04 1.07811317e-15 2.75706151e-12\n",
            " 8.41032513e-17 4.58788424e-10 8.90049753e-12 6.99564527e-22\n",
            " 5.35830905e-29 2.06121977e-17 3.25981062e-04 1.23769885e-17\n",
            " 4.23181110e-20 1.25239406e-16 1.23480571e-13 3.07933678e-14\n",
            " 3.40705632e-12 2.53514893e-18 1.27440025e-22 6.81920149e-19\n",
            " 2.92663060e-20 1.11687167e-17 2.64862743e-10 1.25065730e-22\n",
            " 3.09630867e-19 5.47536929e-12 1.01212300e-12 1.41680665e-23\n",
            " 9.19625722e-17 2.87628868e-31 1.12597180e-15 2.51949447e-16\n",
            " 5.03791835e-11 2.58524496e-21 4.93263101e-08 1.33228574e-18\n",
            " 2.96393455e-18 1.91238910e-19 1.95377101e-08 2.19679517e-17\n",
            " 2.07401187e-18 2.50777069e-21 2.06125823e-14 2.89744445e-23\n",
            " 1.18432287e-17 7.52812526e-19 1.03439774e-07 6.79125011e-17\n",
            " 1.01940131e-13 1.03761262e-11 3.35877948e-20 4.86477930e-23\n",
            " 2.09162821e-24 1.99097840e-17 4.77012958e-20 7.89887054e-06\n",
            " 5.11332414e-29 1.06468212e-17 2.16086242e-08 2.45154526e-12\n",
            " 6.09099872e-19 3.85162370e-20 7.96986404e-28 3.05312287e-19\n",
            " 3.84931936e-19 2.79642139e-24 8.84921376e-18 1.47015813e-08\n",
            " 1.01803801e-23 2.04370965e-09 5.52486210e-20 2.46467641e-13\n",
            " 8.27307806e-11 6.52306223e-25 9.31844112e-32 1.93250165e-15\n",
            " 1.15813146e-20 1.69962271e-20 8.30374564e-19 1.01158191e-21\n",
            " 3.75330391e-17 8.93031512e-14 4.45578836e-14 6.13232274e-08\n",
            " 1.43282307e-17 1.78468188e-16 5.65966482e-25 1.05007113e-20\n",
            " 3.10441173e-18 1.38046511e-03 6.05067690e-20 2.04876459e-12\n",
            " 8.59051286e-17 3.22485772e-15 1.94636463e-09 3.90681344e-23\n",
            " 2.13638246e-10 1.72020488e-24 3.50565443e-15 8.40549554e-14\n",
            " 6.00852918e-12 4.11916380e-06 6.38155394e-28 3.04375102e-11\n",
            " 6.81984824e-20 1.79204286e-16 8.90155391e-26 1.16745412e-07\n",
            " 2.08730739e-06 7.04273237e-18 2.93692778e-11 1.33461583e-25\n",
            " 1.13689771e-19 1.01637582e-07 4.94945014e-13 8.06931724e-13\n",
            " 2.48179128e-20 2.43860175e-21 4.93860061e-15 1.79290973e-14\n",
            " 1.31243982e-09 4.78624694e-18 6.37986659e-08 3.77916836e-15\n",
            " 2.27452954e-08 1.38920447e-19 8.22756533e-12 2.74694950e-25\n",
            " 1.67506024e-13 2.06884482e-10 1.35407241e-17 1.64922418e-19\n",
            " 7.89600937e-17 5.69927455e-23 1.55436111e-23 1.03781821e-19\n",
            " 7.03712370e-13 8.20766659e-14 5.18626161e-15 2.28057997e-05\n",
            " 7.76205814e-19 6.45501940e-31 5.54669231e-22 2.02432510e-15\n",
            " 1.20037861e-17 6.06764096e-13 5.64810732e-09 1.02302543e-22\n",
            " 2.52614010e-12 8.71110547e-22 5.94727869e-12 8.39071586e-24\n",
            " 2.84257403e-04 5.92493207e-11 2.19599181e-16 2.40729384e-16\n",
            " 5.86371951e-10 3.17606648e-26 1.53705625e-29 2.61848304e-22\n",
            " 2.07395441e-20 8.13291491e-21 4.62588843e-21 1.68413729e-15\n",
            " 8.91700044e-15 2.51164360e-17 7.01775346e-21 8.80464898e-22]\n"
          ]
        }
      ]
    },
    {
      "cell_type": "code",
      "source": [
        "len(image_model.predict(np.array([img]))[0])"
      ],
      "metadata": {
        "id": "Akaizz6hXYXt",
        "colab": {
          "base_uri": "https://localhost:8080/"
        },
        "outputId": "a18111a4-ecab-4fda-8c5f-600c996d3052"
      },
      "execution_count": null,
      "outputs": [
        {
          "output_type": "stream",
          "name": "stdout",
          "text": [
            "1/1 [==============================] - 1s 554ms/step\n"
          ]
        },
        {
          "output_type": "execute_result",
          "data": {
            "text/plain": [
              "1000"
            ]
          },
          "metadata": {},
          "execution_count": 32
        }
      ]
    },
    {
      "cell_type": "code",
      "source": [],
      "metadata": {
        "id": "hod14pb7cA9Q"
      },
      "execution_count": null,
      "outputs": []
    }
  ]
}